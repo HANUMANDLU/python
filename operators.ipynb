{
 "cells": [
  {
   "cell_type": "code",
   "execution_count": 5,
   "id": "a58d0043-7d14-438c-aab1-5dcec9012a18",
   "metadata": {},
   "outputs": [
    {
     "name": "stdout",
     "output_type": "stream",
     "text": [
      "20\n",
      "0\n",
      "100\n",
      "1.0\n",
      "1\n",
      "10000000000\n"
     ]
    }
   ],
   "source": [
    "a=10\n",
    "b=10\n",
    "print(a+b)\n",
    "print(a-b)\n",
    "print(a*b)\n",
    "print(a/b)\n",
    "print(a//b)\n",
    "print(a**b)"
   ]
  },
  {
   "cell_type": "code",
   "execution_count": null,
   "id": "215f8301-c9a7-44a5-97d1-6de07cf6ac76",
   "metadata": {},
   "outputs": [],
   "source": [
    "+ addition \n",
    "- subtraction\n",
    "* multiplication\n",
    "/ division\n",
    "// floor devision\n",
    "** power operator"
   ]
  },
  {
   "cell_type": "code",
   "execution_count": 6,
   "id": "dfa7dfd5-1ee3-4511-8b44-cf428e7d09af",
   "metadata": {},
   "outputs": [
    {
     "name": "stdout",
     "output_type": "stream",
     "text": [
      "0\n"
     ]
    }
   ],
   "source": [
    "a=10\n",
    "b=10\n",
    "print(a-b)"
   ]
  },
  {
   "cell_type": "code",
   "execution_count": 7,
   "id": "25e1a1fb-fd3f-44e4-83be-ab067fbae806",
   "metadata": {},
   "outputs": [
    {
     "name": "stdout",
     "output_type": "stream",
     "text": [
      "100\n"
     ]
    }
   ],
   "source": [
    "a=10\n",
    "b=10\n",
    "print(a*b)"
   ]
  },
  {
   "cell_type": "code",
   "execution_count": 13,
   "id": "b7621085-25b9-42c3-8d55-23a29232b7c9",
   "metadata": {},
   "outputs": [
    {
     "name": "stdout",
     "output_type": "stream",
     "text": [
      "1.0\n"
     ]
    }
   ],
   "source": [
    "a=10\n",
    "b=10\n",
    "print(a/b)"
   ]
  },
  {
   "cell_type": "code",
   "execution_count": 9,
   "id": "734cbaa6-8583-42ae-918c-495665cd6b5a",
   "metadata": {},
   "outputs": [
    {
     "name": "stdout",
     "output_type": "stream",
     "text": [
      "1\n"
     ]
    }
   ],
   "source": [
    "a=10\n",
    "b=10\n",
    "print(a//b)"
   ]
  },
  {
   "cell_type": "code",
   "execution_count": 10,
   "id": "f6a3204a-dcc8-4ef6-8dad-37b087954118",
   "metadata": {},
   "outputs": [
    {
     "name": "stdout",
     "output_type": "stream",
     "text": [
      "0\n"
     ]
    }
   ],
   "source": [
    "a=10\n",
    "b=10\n",
    "print(a%b)"
   ]
  },
  {
   "cell_type": "code",
   "execution_count": 11,
   "id": "1a934baf-4f6e-46b4-af30-9c88d1ce5127",
   "metadata": {},
   "outputs": [
    {
     "name": "stdout",
     "output_type": "stream",
     "text": [
      "10000000000\n"
     ]
    }
   ],
   "source": [
    "a=10\n",
    "b=10\n",
    "print(a**b)"
   ]
  },
  {
   "cell_type": "code",
   "execution_count": 14,
   "id": "3b4454d3-4edd-4a9d-8efb-fa6765f8e93c",
   "metadata": {},
   "outputs": [
    {
     "name": "stdout",
     "output_type": "stream",
     "text": [
      "3.1622776601683795\n"
     ]
    }
   ],
   "source": [
    "a=10\n",
    "b=10\n",
    "print(a**0.5)"
   ]
  },
  {
   "cell_type": "code",
   "execution_count": 24,
   "id": "957e53e0-0b89-4684-ad5c-6175fbd303f9",
   "metadata": {},
   "outputs": [
    {
     "data": {
      "text/plain": [
       "'relational operators\\n< lessthan \\n> greaterthan\\n<=lessthanequal\\n>=greater than equal\\n==equals\\n!= not equals'"
      ]
     },
     "execution_count": 24,
     "metadata": {},
     "output_type": "execute_result"
    }
   ],
   "source": [
    "# \"\"\"relational operators\n",
    "# < lessthan \n",
    "# > greaterthan\n",
    "# <=lessthanequal\n",
    "# >=greater than equal\n",
    "# ==equals\n",
    "# != not equals\"\"\"\n"
   ]
  },
  {
   "cell_type": "code",
   "execution_count": 21,
   "id": "26315bac-c7a9-47af-ba67-72667852bc09",
   "metadata": {},
   "outputs": [
    {
     "name": "stdout",
     "output_type": "stream",
     "text": [
      "True\n"
     ]
    }
   ],
   "source": [
    "a=10\n",
    "b=20\n",
    "print(a<b)"
   ]
  },
  {
   "cell_type": "code",
   "execution_count": 22,
   "id": "2b2a04e8-3038-4399-b253-b63a6fd138cc",
   "metadata": {},
   "outputs": [
    {
     "name": "stdout",
     "output_type": "stream",
     "text": [
      "False\n"
     ]
    }
   ],
   "source": [
    "a=10\n",
    "b=20\n",
    "print(a>b)"
   ]
  },
  {
   "cell_type": "code",
   "execution_count": 23,
   "id": "c7e556e8-9f10-4b00-9657-74d2a5914c93",
   "metadata": {},
   "outputs": [
    {
     "name": "stdout",
     "output_type": "stream",
     "text": [
      "True\n"
     ]
    }
   ],
   "source": [
    "a=10\n",
    "b=20\n",
    "print(a<=b)"
   ]
  },
  {
   "cell_type": "code",
   "execution_count": 26,
   "id": "5d25aded-8994-444e-9621-f7b3baa0b81e",
   "metadata": {},
   "outputs": [
    {
     "name": "stdout",
     "output_type": "stream",
     "text": [
      "False\n"
     ]
    }
   ],
   "source": [
    "a=10\n",
    "b=20\n",
    "print(a>=b)"
   ]
  },
  {
   "cell_type": "code",
   "execution_count": 27,
   "id": "5ae68929-9b2e-42ee-bcbb-81cfed805216",
   "metadata": {},
   "outputs": [
    {
     "name": "stdout",
     "output_type": "stream",
     "text": [
      "False\n"
     ]
    }
   ],
   "source": [
    "a=10\n",
    "b=20\n",
    "print(a==b)"
   ]
  },
  {
   "cell_type": "code",
   "execution_count": 28,
   "id": "f9fa044e-2be6-4b08-848a-0bb3b964571f",
   "metadata": {},
   "outputs": [
    {
     "name": "stdout",
     "output_type": "stream",
     "text": [
      "True\n"
     ]
    }
   ],
   "source": [
    "a=10\n",
    "b=20\n",
    "print(a!=b)"
   ]
  },
  {
   "cell_type": "code",
   "execution_count": 29,
   "id": "3a826a95-dc2f-415a-ad4a-70c58563aea1",
   "metadata": {},
   "outputs": [
    {
     "name": "stdout",
     "output_type": "stream",
     "text": [
      "0\n"
     ]
    }
   ],
   "source": [
    "#BITWISE OPERATORS\n",
    "a=2\n",
    "b=1\n",
    "print(a&b)"
   ]
  },
  {
   "cell_type": "code",
   "execution_count": 35,
   "id": "45cf8ead-1ced-45d3-a004-f742c629b2d9",
   "metadata": {},
   "outputs": [
    {
     "name": "stdout",
     "output_type": "stream",
     "text": [
      "True\n",
      "False\n",
      "False\n",
      "True\n",
      "True\n"
     ]
    }
   ],
   "source": [
    "#MEMBERSHIP OPERATORS\n",
    "d=\"dinesh\"\n",
    "print(\"e\" in d)\n",
    "print(\"z\" in d)\n",
    "print(\"i\" not in d)\n",
    "print(\"x\" not in d)\n",
    "print(d in d)"
   ]
  },
  {
   "cell_type": "code",
   "execution_count": 37,
   "id": "2bc70dd0-2cf7-49b9-a6e5-ffa0a8fe1b81",
   "metadata": {},
   "outputs": [
    {
     "name": "stdout",
     "output_type": "stream",
     "text": [
      "True\n",
      "False\n",
      "False\n",
      "True\n",
      "False\n"
     ]
    }
   ],
   "source": [
    "s=\"DARSHAN IS A GOOD BOY AND BAD FELLOW WITH ATTITUDE\"\n",
    "print(\"IS\" in s)\n",
    "print(\"waste\" in s)\n",
    "print(\"GOOD\" not in s)\n",
    "print(\" \" in s)\n",
    "print(\" \" not in s)"
   ]
  },
  {
   "cell_type": "code",
   "execution_count": 66,
   "id": "a380a777-49bb-4b9b-9a88-72673a97aed8",
   "metadata": {},
   "outputs": [
    {
     "name": "stdout",
     "output_type": "stream",
     "text": [
      "hellow world hellow\n",
      "h\n",
      "w\n",
      "llo\n",
      "llow world hellow\n",
      "hellow world hellowfrom darshan\n",
      "hellow world hellowhellow world hellow\n",
      "False\n",
      "5\n",
      "2\n"
     ]
    }
   ],
   "source": [
    "str=\"hellow world hellow\"\n",
    "print(str)\n",
    "print(str[0])\n",
    "print(str[-1:])\n",
    "print(str[2:5])\n",
    "print(str[2:])\n",
    "print(str+\"from darshan\")\n",
    "print(str*2)\n",
    "print(str.endswith(\" \"))\n",
    "print(str.find(\"w\"))\n",
    "print(str.count(\"hellow\"))\n"
   ]
  },
  {
   "cell_type": "code",
   "execution_count": null,
   "id": "06a165f0-fb79-47d2-b05b-9d4c48030b4b",
   "metadata": {},
   "outputs": [],
   "source": []
  }
 ],
 "metadata": {
  "kernelspec": {
   "display_name": "Python 3 (ipykernel)",
   "language": "python",
   "name": "python3"
  },
  "language_info": {
   "codemirror_mode": {
    "name": "ipython",
    "version": 3
   },
   "file_extension": ".py",
   "mimetype": "text/x-python",
   "name": "python",
   "nbconvert_exporter": "python",
   "pygments_lexer": "ipython3",
   "version": "3.13.1"
  }
 },
 "nbformat": 4,
 "nbformat_minor": 5
}
