{
 "cells": [
  {
   "cell_type": "code",
   "execution_count": 1,
   "id": "840f799c-9c65-4d24-b682-dde330baca0f",
   "metadata": {},
   "outputs": [
    {
     "name": "stdin",
     "output_type": "stream",
     "text": [
      "enter your name hello\n"
     ]
    }
   ],
   "source": [
    "x=input(\"enter your name\")"
   ]
  },
  {
   "cell_type": "code",
   "execution_count": 3,
   "id": "2c0f6ebc-8c59-40ef-a519-04946f3aa5be",
   "metadata": {},
   "outputs": [
    {
     "name": "stdin",
     "output_type": "stream",
     "text": [
      "enter the collage name sr university\n"
     ]
    }
   ],
   "source": [
    "name=input(\"enter the collage name\")"
   ]
  },
  {
   "cell_type": "code",
   "execution_count": 5,
   "id": "b81c0294-9ff1-4f95-9ab6-966f30bf71ff",
   "metadata": {},
   "outputs": [
    {
     "name": "stdin",
     "output_type": "stream",
     "text": [
      "enter the subject python\n"
     ]
    }
   ],
   "source": [
    "sub=input(\"enter the subject\")"
   ]
  },
  {
   "cell_type": "code",
   "execution_count": 7,
   "id": "fb04cc8c-e783-46ac-bf33-c145992a9a6e",
   "metadata": {},
   "outputs": [
    {
     "name": "stdin",
     "output_type": "stream",
     "text": [
      "enter your age 21465\n"
     ]
    }
   ],
   "source": [
    "age=int(input(\"enter your age\"))"
   ]
  },
  {
   "cell_type": "code",
   "execution_count": 9,
   "id": "c4f96216-5817-467b-8046-ba389473d53b",
   "metadata": {},
   "outputs": [
    {
     "name": "stdout",
     "output_type": "stream",
     "text": [
      "this  value of a is 5\n"
     ]
    }
   ],
   "source": [
    "a=5\n",
    "print(\"this  value of a is\",a)"
   ]
  },
  {
   "cell_type": "code",
   "execution_count": 23,
   "id": "2e16d2f1-8f31-457a-b59f-6d834e1b4029",
   "metadata": {},
   "outputs": [
    {
     "name": "stdout",
     "output_type": "stream",
     "text": [
      "True\n",
      "False\n",
      "True\n",
      "False\n",
      "False\n",
      "True\n"
     ]
    }
   ],
   "source": [
    "#identiy operator\n",
    "a=25\n",
    "b=25\n",
    "c=50\n",
    "d=99\n",
    "print(a is b)\n",
    "print(a is not b)\n",
    "print(c is not b)\n",
    "print(d is a)\n",
    "print(c is a)\n",
    "print(d is not b)"
   ]
  },
  {
   "cell_type": "code",
   "execution_count": 33,
   "id": "e026e4cc-9d03-4393-9baa-69114d06a7f1",
   "metadata": {},
   "outputs": [
    {
     "name": "stdout",
     "output_type": "stream",
     "text": [
      "this members are pass\n"
     ]
    }
   ],
   "source": [
    "#control statements\n",
    "x=35\n",
    "y=45\n",
    "z=35\n",
    "w=46\n",
    "if(x>=35 or y>=35 or z>=35 or w>=35):\n",
    "    print(\"this members are pass\")\n",
    "else:\n",
    "    print(\"this members are fail\")"
   ]
  },
  {
   "cell_type": "code",
   "execution_count": 51,
   "id": "6ce60f15-7ba7-49ce-a61b-b0cfff8c2604",
   "metadata": {},
   "outputs": [
    {
     "name": "stdin",
     "output_type": "stream",
     "text": [
      "enter the number -22\n"
     ]
    },
    {
     "name": "stdout",
     "output_type": "stream",
     "text": [
      "this is even number\n",
      "this number is negative number\n"
     ]
    }
   ],
   "source": [
    "x=int(input(\"enter the number\"))\n",
    "if x>0:\n",
    "    if x%2==0:\n",
    "        print(\"this is even number\")\n",
    "    else:\n",
    "        print(\"this is odd number\")\n",
    "    print(\"this number is postive number\")\n",
    "else:\n",
    "    \n",
    "    if x%2==0:\n",
    "        print(\"this is even number\")\n",
    "    else:\n",
    "        print(\"this is odd number\")\n",
    "    print(\"this number is negative number\")"
   ]
  },
  {
   "cell_type": "code",
   "execution_count": 65,
   "id": "708a7581-93a0-425d-8644-0a90caf144de",
   "metadata": {},
   "outputs": [
    {
     "name": "stdin",
     "output_type": "stream",
     "text": [
      "enter your age -90\n"
     ]
    },
    {
     "name": "stdout",
     "output_type": "stream",
     "text": [
      "sorry you cannot eligilble\n"
     ]
    }
   ],
   "source": [
    "age=int(input(\"enter your age\"))\n",
    "if age<0:\n",
    "    if age>18:\n",
    "        print(\"you can eligible\")\n",
    "    else:\n",
    "        print(\"sorry you cannot eligilble\")\n",
    "\n",
    "        \n",
    "else:\n",
    "    \n",
    "    if age>18:\n",
    "        print(\"you can eligible\")\n",
    "    else:\n",
    "        print(\"sorry you cannot eligilble\")\n",
    "\n",
    "        \n"
   ]
  },
  {
   "cell_type": "code",
   "execution_count": 78,
   "id": "332ff306-6b82-47f2-b079-3cc7c64b64a8",
   "metadata": {},
   "outputs": [
    {
     "name": "stdin",
     "output_type": "stream",
     "text": [
      "enter your marks= 88\n"
     ]
    },
    {
     "name": "stdout",
     "output_type": "stream",
     "text": [
      "you got A++ grade\n"
     ]
    }
   ],
   "source": [
    "marks=int(input(\"enter your marks=\"))\n",
    "if marks>34:\n",
    "    if(marks>70):    \n",
    "        print(\"you got A++ grade\")\n",
    "    elif( marks>60):\n",
    "        print(\"you got A grade\")\n",
    "    elif( marks>50):\n",
    "        print(\"you got B grade\")\n",
    "    elif(marks<50):\n",
    "        print(\"you got C grade\")\n",
    "else:\n",
    "    print(\"you got F grade\")\n",
    "          "
   ]
  },
  {
   "cell_type": "code",
   "execution_count": 94,
   "id": "3d00f777-86a8-4449-b171-2615e0b1d207",
   "metadata": {},
   "outputs": [
    {
     "name": "stdin",
     "output_type": "stream",
     "text": [
      "enter your car model 2021\n",
      "enter the no of kms 10000\n",
      "enter any having dents on car 2\n",
      "enter happen any accidents on car 0\n",
      "enter the prize of  year car 1000000\n"
     ]
    },
    {
     "name": "stdout",
     "output_type": "stream",
     "text": [
      "806000.0\n"
     ]
    }
   ],
   "source": [
    "#find a car price\n",
    "year=int(input(\"enter your car model\"))\n",
    "kms=int(input(\"enter the no of kms\"))\n",
    "dents=int(input(\"enter any having dents on car\"))\n",
    "accident=int(input(\"enter happen any accidents on car\"))\n",
    "prize=int(input(\"enter the prize of  year car\"))\n",
    "new=prize-(((2024-year)*0.06*prize)+((kms/10000)*0.01*prize)+((dents*0.002*prize))+((accident*0.2*prize)))\n",
    "print(new)\n",
    "                                \n"
   ]
  },
  {
   "cell_type": "code",
   "execution_count": null,
   "id": "ce916336-8875-4f1d-b38d-c83528e20624",
   "metadata": {},
   "outputs": [],
   "source": []
  }
 ],
 "metadata": {
  "kernelspec": {
   "display_name": "Python [conda env:base] *",
   "language": "python",
   "name": "conda-base-py"
  },
  "language_info": {
   "codemirror_mode": {
    "name": "ipython",
    "version": 3
   },
   "file_extension": ".py",
   "mimetype": "text/x-python",
   "name": "python",
   "nbconvert_exporter": "python",
   "pygments_lexer": "ipython3",
   "version": "3.12.7"
  }
 },
 "nbformat": 4,
 "nbformat_minor": 5
}
